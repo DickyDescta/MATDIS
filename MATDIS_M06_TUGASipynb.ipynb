{
  "nbformat": 4,
  "nbformat_minor": 0,
  "metadata": {
    "colab": {
      "provenance": [],
      "authorship_tag": "ABX9TyMugsA+xscFOHDjrzLZlAGD",
      "include_colab_link": true
    },
    "kernelspec": {
      "name": "python3",
      "display_name": "Python 3"
    },
    "language_info": {
      "name": "python"
    }
  },
  "cells": [
    {
      "cell_type": "markdown",
      "metadata": {
        "id": "view-in-github",
        "colab_type": "text"
      },
      "source": [
        "<a href=\"https://colab.research.google.com/github/DickyDescta/MATDIS/blob/main/MATDIS_M06_TUGASipynb.ipynb\" target=\"_parent\"><img src=\"https://colab.research.google.com/assets/colab-badge.svg\" alt=\"Open In Colab\"/></a>"
      ]
    },
    {
      "cell_type": "code",
      "execution_count": 1,
      "metadata": {
        "colab": {
          "base_uri": "https://localhost:8080/"
        },
        "id": "DCu_qnCmkEhe",
        "outputId": "68eba89e-93e7-47ba-fd93-c21c94bdb30c"
      },
      "outputs": [
        {
          "output_type": "stream",
          "name": "stdout",
          "text": [
            "Akar dari persamaan tersebut adalah: 5.1387786865234375\n"
          ]
        }
      ],
      "source": [
        "def f(x):\n",
        "    return 0.2 * x**3 + 1.4 * x**2 - 8 * x - 23\n",
        "\n",
        "def bisection(a, b, tol):\n",
        "    if f(a) * f(b) >= 0:\n",
        "        print(\"Bisection method fails.\")\n",
        "        return None\n",
        "    c = a\n",
        "    while (b - a) >= tol:\n",
        "        c = (a + b) / 2\n",
        "        if f(c) == 0.0:\n",
        "            break\n",
        "        if f(c) * f(a) < 0:\n",
        "            b = c\n",
        "        else:\n",
        "            a = c\n",
        "    return c\n",
        "\n",
        "# Contoh penggunaan\n",
        "a = -10  # batas bawah\n",
        "b = 10   # batas atas\n",
        "tolerance = 0.0001\n",
        "root = bisection(a, b, tolerance)\n",
        "print(f\"Akar dari persamaan tersebut adalah: {root}\")\n"
      ]
    },
    {
      "cell_type": "code",
      "source": [
        "def false_position(a, b, tol):\n",
        "    if f(a) * f(b) >= 0:\n",
        "        print(\"False position method fails.\")\n",
        "        return None\n",
        "    c = a\n",
        "    while abs(f(c)) > tol:\n",
        "        c = b - (f(b) * (b - a)) / (f(b) - f(a))\n",
        "        if f(c) == 0:\n",
        "            break\n",
        "        elif f(c) * f(a) < 0:\n",
        "            b = c\n",
        "        else:\n",
        "            a = c\n",
        "    return c\n",
        "\n",
        "# Contoh penggunaan\n",
        "a = -10  # batas bawah\n",
        "b = 10   # batas atas\n",
        "tolerance = 0.0001\n",
        "root_fp = false_position(a, b, tolerance)\n",
        "print(f\"Akar dari persamaan dengan metode false position adalah: {root_fp}\")\n"
      ],
      "metadata": {
        "colab": {
          "base_uri": "https://localhost:8080/"
        },
        "id": "nzz0WB1Hkg1f",
        "outputId": "c1db56d6-eda6-4451-e822-92693a46d389"
      },
      "execution_count": 2,
      "outputs": [
        {
          "output_type": "stream",
          "name": "stdout",
          "text": [
            "Akar dari persamaan dengan metode false position adalah: -9.87186901042965\n"
          ]
        }
      ]
    },
    {
      "cell_type": "code",
      "source": [
        "# Fungsi dari persamaan yang diberikan\n",
        "def f(x):\n",
        "    return 0.2 * x**3 + 1.4 * x**2 - 8 * x - 23\n",
        "\n",
        "# False Position Method\n",
        "def false_position(xl, xu, err_m):\n",
        "    iterasi = 0\n",
        "    while True:\n",
        "        xr = xu - (f(xu) * (xu - xl)) / (f(xu) - f(xl))\n",
        "        err = abs(f(xr))\n",
        "\n",
        "        if err < err_m:\n",
        "            break\n",
        "\n",
        "        if f(xr) * f(xl) < 0:\n",
        "            xu = xr\n",
        "        else:\n",
        "            xl = xr\n",
        "        iterasi += 1\n",
        "    return xr, iterasi\n",
        "\n",
        "# Bisection Method (Metode Numerik Dasar)\n",
        "def bisection(xl, xu, err_m):\n",
        "    iterasi = 0\n",
        "    while True:\n",
        "        xr = (xu + xl) / 2\n",
        "        err = abs(f(xr))\n",
        "\n",
        "        if err < err_m:\n",
        "            break\n",
        "\n",
        "        if f(xr) * f(xl) < 0:\n",
        "            xu = xr\n",
        "        else:\n",
        "            xl = xr\n",
        "        iterasi += 1\n",
        "    return xr, iterasi\n",
        "\n",
        "# Parameter awal yang sama\n",
        "xl = -5  # Contoh batas bawah\n",
        "xu = 5   # Contoh batas atas\n",
        "err_m = 0.0001  # Kondisi error maksimum\n",
        "\n",
        "# Menjalankan kedua metode\n",
        "akar_false_pos, iter_false_pos = false_position(xl, xu, err_m)\n",
        "akar_bisection, iter_bisection = bisection(xl, xu, err_m)\n",
        "\n",
        "print(f\"Akar menggunakan False Position: {akar_false_pos}, Jumlah iterasi: {iter_false_pos}\")\n",
        "print(f\"Akar menggunakan Bisection: {akar_bisection}, Jumlah iterasi: {iter_bisection}\")\n"
      ],
      "metadata": {
        "colab": {
          "base_uri": "https://localhost:8080/"
        },
        "id": "_8s2FH0Slr-F",
        "outputId": "2848176a-af9f-47b4-b096-cfa322682870"
      },
      "execution_count": 3,
      "outputs": [
        {
          "output_type": "stream",
          "name": "stdout",
          "text": [
            "Akar menggunakan False Position: -2.2669244073862944, Jumlah iterasi: 4\n",
            "Akar menggunakan Bisection: -2.2669219970703125, Jumlah iterasi: 16\n"
          ]
        }
      ]
    }
  ]
}